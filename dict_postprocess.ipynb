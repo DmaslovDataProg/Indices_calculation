{
 "cells": [
  {
   "cell_type": "code",
   "execution_count": 41,
   "id": "186b1db1",
   "metadata": {},
   "outputs": [],
   "source": [
    "data_inidices = []\n",
    "path = \"C:/Users/Utilizador/Desktop/Records/algarve_records/to_sample/loops_for_indices/\"\n",
    "for ii in range(0,9):\n",
    "    os.chdir(f\"{path}rec_fold0{ii}\")\n",
    "    with open(\"dict.csv\", \"r\") as f:\n",
    "            reader = csv.reader(f, delimiter=\",\")\n",
    "            for i, line in enumerate(reader):\n",
    "                if i == 1: # to avoid putting metadata, only numbers\n",
    "                    data_inidices.append(line)\n",
    "#                     print(line)\n",
    "with open(f'{path}indices_result_{data_inidices[1][0][:-13]}.txt', 'w') as f:\n",
    "    for line in data_inidices:\n",
    "        f.write(f\"{line}\\n\")"
   ]
  },
  {
   "cell_type": "code",
   "execution_count": 81,
   "id": "92006efc",
   "metadata": {},
   "outputs": [
    {
     "name": "stdout",
     "output_type": "stream",
     "text": [
      "less at 07_17_17_py_05\n",
      "less at 07_17_17_py_07\n"
     ]
    }
   ],
   "source": [
    "data_postprocess = []\n",
    "with open(f\"{path}indices_result_dep2_07_17_17.txt\", \"r\") as f:\n",
    "    reader = csv.reader(f, delimiter=\",\")\n",
    "    for i, line in enumerate(reader):\n",
    "        data_postprocess.append(line)\n",
    "        if round(float(data_inidices[i][1]),precision) < 2500:\n",
    "            # indicates specific record, where the indice value is more\n",
    "            print(f\"less at {data_inidices[i][0][5:-7]}\") \n",
    "        "
   ]
  },
  {
   "cell_type": "code",
   "execution_count": 66,
   "id": "04d6a877",
   "metadata": {},
   "outputs": [
    {
     "data": {
      "text/plain": [
       "185.793"
      ]
     },
     "execution_count": 66,
     "metadata": {},
     "output_type": "execute_result"
    }
   ],
   "source": [
    "precision = 3\n",
    "round(float(data_inidices[1][2]),precision)"
   ]
  },
  {
   "cell_type": "code",
   "execution_count": 80,
   "id": "0da24bf2",
   "metadata": {},
   "outputs": [
    {
     "data": {
      "text/plain": [
       "'07_17_17_py_03'"
      ]
     },
     "execution_count": 80,
     "metadata": {},
     "output_type": "execute_result"
    }
   ],
   "source": [
    "data_inidices[3][0][5:-7]"
   ]
  },
  {
   "cell_type": "code",
   "execution_count": 17,
   "id": "0329c16c",
   "metadata": {},
   "outputs": [
    {
     "data": {
      "text/plain": [
       "[\"['filename'\",\n",
       " \" 'Acoustic_Complexity_Index__main_value'\",\n",
       " \" 'Acoustic_Complexity_Index__min'\",\n",
       " \" 'Acoustic_Complexity_Index__max'\",\n",
       " \" 'Acoustic_Complexity_Index__mean'\",\n",
       " \" 'Acoustic_Complexity_Index__median'\",\n",
       " \" 'Acoustic_Complexity_Index__std'\",\n",
       " \" 'Acoustic_Complexity_Index__var'\",\n",
       " \" 'Acoustic_Evenness_Index__main_value'\",\n",
       " \" 'Bio_acoustic_Index__main_value'\",\n",
       " \" 'Acoustic_Diversity_Index_NR__main_value'\",\n",
       " \" 'Spectral_Entropy_NR__main_value']\"]"
      ]
     },
     "execution_count": 17,
     "metadata": {},
     "output_type": "execute_result"
    }
   ],
   "source": [
    "data_postprocess[0]"
   ]
  },
  {
   "cell_type": "code",
   "execution_count": 1,
   "id": "f9b6b073",
   "metadata": {},
   "outputs": [],
   "source": [
    "import soundfile as sf\n",
    "import numpy as np\n",
    "import matplotlib.pyplot as plt\n",
    "import librosa\n",
    "import librosa.display\n",
    "from distutils.dir_util import copy_tree\n",
    "import glob, os, shutil, csv\n"
   ]
  }
 ],
 "metadata": {
  "kernelspec": {
   "display_name": "Python 3 (ipykernel)",
   "language": "python",
   "name": "python3"
  },
  "language_info": {
   "codemirror_mode": {
    "name": "ipython",
    "version": 3
   },
   "file_extension": ".py",
   "mimetype": "text/x-python",
   "name": "python",
   "nbconvert_exporter": "python",
   "pygments_lexer": "ipython3",
   "version": "3.9.12"
  }
 },
 "nbformat": 4,
 "nbformat_minor": 5
}
